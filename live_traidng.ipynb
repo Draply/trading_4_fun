{
 "cells": [
  {
   "cell_type": "code",
   "execution_count": null,
   "metadata": {
    "collapsed": true
   },
   "outputs": [],
   "source": [
    "import numpy as np\n",
    "import pandas as pd\n",
    "\n",
    "import talib\n",
    "from datetime import datetime\n",
    "\n",
    "from binance.client import Client\n",
    "# from apscheduler.schedulers.blocking import BlockingScheduler\n",
    "import os, time"
   ]
  },
  {
   "cell_type": "code",
   "execution_count": null,
   "metadata": {
    "collapsed": false
   },
   "outputs": [],
   "source": [
    "## Vì để thực hiện giao dịch trực tiếp với API sàn của em, thì nó sẽ cần tiền mặt thật để đổ vào do đó em đã chuyển qua dạng hàm test đặc trưng."
   ]
  },
  {
   "cell_type": "code",
   "execution_count": null,
   "metadata": {
    "collapsed": false,
    "pycharm": {
     "is_executing": true
    }
   },
   "outputs": [],
   "source": [
    "from au import *\n",
    "client = Client('','')\n",
    "symbols = ['XRP']\n",
    "start_n_hours_ago = 60\n",
    "balance_unit = 'USDT'\n",
    "first = True\n",
    "balance = 1000\n",
    "qty =0\n",
    "unittoken = 0\n",
    "buyed = True\n",
    "\n",
    "while True:\n",
    "    if (datetime.now().second % 10 == 0) or first:\n",
    "        if (datetime.now().minute == 0 and datetime.now().second == 10) or first:\n",
    "            # refresh data\n",
    "            df = gather_data(320)\n",
    "            states = get_states(df)\n",
    "            print('Current state of the market:')\n",
    "            print(states)\n",
    "            print('\\n')\n",
    "\n",
    "\n",
    "            if states == 'uptrend' and buyed ==True :\n",
    "                print(\"Buyed at price :\",df['close'].iloc[-1])\n",
    "                qty = balance/df['close'].iloc[-1]\n",
    "                buyed = False\n",
    "            if states == 'dowtrend' and buyed== False:\n",
    "                balance = qty*df['close'].iloc[-1]\n",
    "                print(\"Selled at price :\",df['close'].iloc[-1],\"\\n\")\n",
    "                print(\"Số dư tài khoản :\",balance)\n",
    "\n",
    "                qty = 0\n",
    "                buyed = True\n",
    "\n",
    "\n",
    "\n"
   ]
  },
  {
   "cell_type": "code",
   "execution_count": null,
   "metadata": {
    "collapsed": false
   },
   "outputs": [],
   "source": []
  }
 ],
 "metadata": {
  "kernelspec": {
   "display_name": "Python 3",
   "language": "python",
   "name": "python3"
  },
  "language_info": {
   "codemirror_mode": {
    "name": "ipython",
    "version": 3
   },
   "file_extension": ".py",
   "mimetype": "text/x-python",
   "name": "python",
   "nbconvert_exporter": "python",
   "pygments_lexer": "ipython3",
   "version": "3.10.9"
  }
 },
 "nbformat": 4,
 "nbformat_minor": 0
}
