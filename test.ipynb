{
 "cells": [
  {
   "cell_type": "code",
   "execution_count": 1,
   "metadata": {},
   "outputs": [],
   "source": [
    "from binance.spot import Spot as Client\n",
    "client = Client(\"\",\"\",base_url=\"https://testnet.binance.vision\")\n"
   ]
  },
  {
   "cell_type": "code",
   "execution_count": 2,
   "metadata": {},
   "outputs": [
    {
     "name": "stdout",
     "output_type": "stream",
     "text": [
      "{'makerCommission': 0, 'takerCommission': 0, 'buyerCommission': 0, 'sellerCommission': 0, 'commissionRates': {'maker': '0.00000000', 'taker': '0.00000000', 'buyer': '0.00000000', 'seller': '0.00000000'}, 'canTrade': True, 'canWithdraw': False, 'canDeposit': False, 'brokered': False, 'requireSelfTradePrevention': False, 'preventSor': False, 'updateTime': 1689057279501, 'accountType': 'SPOT', 'balances': [{'asset': 'BNB', 'free': '1000.00000000', 'locked': '0.00000000'}, {'asset': 'BTC', 'free': '0.10000000', 'locked': '0.00000000'}, {'asset': 'BUSD', 'free': '10000.00000000', 'locked': '0.00000000'}, {'asset': 'ETH', 'free': '100.00000000', 'locked': '0.00000000'}, {'asset': 'LTC', 'free': '500.00000000', 'locked': '0.00000000'}, {'asset': 'TRX', 'free': '500000.00000000', 'locked': '0.00000000'}, {'asset': 'USDT', 'free': '37517.51109750', 'locked': '0.00000000'}, {'asset': 'XRP', 'free': '50000.00000000', 'locked': '0.00000000'}], 'permissions': ['SPOT'], 'uid': 1669702559013122458}\n"
     ]
    }
   ],
   "source": [
    "account = Client.account(self=client)\n",
    "print(account)"
   ]
  },
  {
   "cell_type": "code",
   "execution_count": 3,
   "metadata": {},
   "outputs": [],
   "source": [
    "import numpy as np\n",
    "import pandas as pd\n",
    "from binance.enums import *\n",
    "import talib \n",
    "from datetime import datetime\n",
    "import joblib\n",
    "import math\n",
    "loaded_model = joblib.load('mymodel1.sav')"
   ]
  },
  {
   "cell_type": "code",
   "execution_count": 4,
   "metadata": {},
   "outputs": [],
   "source": [
    "def balanceOf(symbol):\n",
    "    account = Client.account(self=client)\n",
    "    balances = account['balances']\n",
    "\n",
    "    for balance in balances:\n",
    "        if balance['asset'] == symbol:\n",
    "            return (float)(balance['free'])"
   ]
  },
  {
   "cell_type": "code",
   "execution_count": 5,
   "metadata": {},
   "outputs": [],
   "source": [
    "# #Check Order\n",
    "def checkOrder(symbol,side) :\n",
    "    check = False\n",
    "    order = client.get_orders(symbol=symbol, limit=1)\n",
    "\n",
    "    if order:\n",
    "        last_order = order[0]\n",
    "        if last_order['status'] == 'FILLED':\n",
    "            check = True\n",
    "            return check \n",
    "\n",
    "        else:\n",
    "            check = False\n",
    "            return check\n",
    "\n",
    "#Take Buy Order\n",
    "def takeBuyOrder(symbol,side) :\n",
    "    \n",
    "    quantity = round(round(balanceOf(\"USDT\"),-1)/(float)(client.ticker_price(symbol=f\"{symbol}USDT\")['price']),1)\n",
    "    symbol =f\"{symbol}USDT\"\n",
    "    \n",
    "    order = client.new_order(symbol=symbol, quantity=quantity, side=side, type='MARKET')\n",
    "        \n",
    "def takeSellOrder(symbol,side) :\n",
    "    quantity = round(balanceOf(symbol)-0.1,1)\n",
    "    symbol =f\"{symbol}USDT\"\n",
    "  \n",
    "    order = client.new_order(symbol=\"BTCUSDT\", quantity=quantity, side=side, type='MARKET')\n"
   ]
  },
  {
   "cell_type": "code",
   "execution_count": 6,
   "metadata": {},
   "outputs": [
    {
     "data": {
      "text/plain": [
       "True"
      ]
     },
     "execution_count": 6,
     "metadata": {},
     "output_type": "execute_result"
    }
   ],
   "source": [
    "checkOrder('BTCUSDT','BUY')"
   ]
  },
  {
   "cell_type": "code",
   "execution_count": 7,
   "metadata": {},
   "outputs": [],
   "source": [
    "takeBuyOrder('BTC','BUY')"
   ]
  },
  {
   "cell_type": "code",
   "execution_count": 8,
   "metadata": {},
   "outputs": [],
   "source": [
    "takeSellOrder('BTC','SELL')"
   ]
  },
  {
   "cell_type": "code",
   "execution_count": 9,
   "metadata": {},
   "outputs": [
    {
     "name": "stdout",
     "output_type": "stream",
     "text": [
      "[{'symbol': 'BTCUSDT', 'orderId': 2902966, 'orderListId': -1, 'clientOrderId': 'rnKSSH3iRcfozmWGx0DP1N', 'price': '0.00000000', 'origQty': '1.20000000', 'executedQty': '1.20000000', 'cummulativeQuoteQty': '36840.52065622', 'status': 'FILLED', 'timeInForce': 'GTC', 'type': 'MARKET', 'side': 'SELL', 'stopPrice': '0.00000000', 'icebergQty': '0.00000000', 'time': 1689157542871, 'updateTime': 1689157542871, 'isWorking': True, 'workingTime': 1689157542871, 'origQuoteOrderQty': '0.00000000', 'selfTradePreventionMode': 'NONE'}]\n"
     ]
    }
   ],
   "source": [
    "order = client.get_orders(symbol=\"BTCUSDT\", limit=1)\n",
    "print(order)"
   ]
  },
  {
   "cell_type": "code",
   "execution_count": 12,
   "metadata": {},
   "outputs": [
    {
     "data": {
      "text/plain": [
       "37514.48878773"
      ]
     },
     "execution_count": 12,
     "metadata": {},
     "output_type": "execute_result"
    }
   ],
   "source": [
    "balanceOf(\"USDT\")"
   ]
  },
  {
   "cell_type": "markdown",
   "metadata": {},
   "source": []
  }
 ],
 "metadata": {
  "kernelspec": {
   "display_name": "base",
   "language": "python",
   "name": "python3"
  },
  "language_info": {
   "codemirror_mode": {
    "name": "ipython",
    "version": 3
   },
   "file_extension": ".py",
   "mimetype": "text/x-python",
   "name": "python",
   "nbconvert_exporter": "python",
   "pygments_lexer": "ipython3",
   "version": "3.10.9"
  },
  "orig_nbformat": 4
 },
 "nbformat": 4,
 "nbformat_minor": 2
}
